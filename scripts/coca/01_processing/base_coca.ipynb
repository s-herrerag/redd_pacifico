{
 "cells": [
  {
   "cell_type": "markdown",
   "metadata": {},
   "source": [
    "# Creación panel de coca"
   ]
  },
  {
   "cell_type": "code",
   "execution_count": 1,
   "metadata": {},
   "outputs": [],
   "source": [
    "import os\n",
    "import itertools\n",
    "import numpy as np\n",
    "import time\n",
    "import re\n",
    "import pandas as pd\n",
    "import matplotlib.pyplot as plt\n",
    "#import seaborn as sns\n",
    "os.environ['USE_PYGEOS'] = '0'\n",
    "import geopandas as gpd\n",
    "from scipy.spatial import cKDTree\n",
    "from shapely import Point, LineString, get_coordinates\n",
    "import pyarrow"
   ]
  },
  {
   "cell_type": "code",
   "execution_count": 2,
   "metadata": {},
   "outputs": [],
   "source": [
    "user=os.environ.get('USER')\n",
    "\n",
    "#Rutas:\n",
    "if user==\"santiagoherreragarcia\":\n",
    "    root=\"/Users/santiagoherreragarcia/Library/CloudStorage/OneDrive-Bibliotecascompartidas:Universidaddelosandes/Carolina Castro Osorio - REDD+ bases\"\n",
    "    densidades=\"/Users/santiagoherreragarcia/Library/CloudStorage/OneDrive-Bibliotecascompartidas:Universidaddelosandes/Carolina Castro Osorio - REDD+ bases/Inputs/Coca/Centroides\"\n",
    "elif user==\"carolinacastroosorio\":\n",
    "    root=\"/Users/carolinacastroosorio/Library/CloudStorage/OneDrive-UniversidaddelosAndes/REDD+ bases\"\n",
    "    densidades=\"/Users/carolinacastroosorio/Library/CloudStorage/OneDrive-UniversidaddelosAndes/REDD+ bases/Inputs/Coca/Centroides\"\n",
    "elif user==\"USER\":\n",
    "    root=\"C:/Users/USER/OneDrive - Universidad de los Andes (1)/REDD+ bases\"\n",
    "    densidades=\"C:/Users/USER/OneDrive - Universidad de los Andes (1)/REDD+ bases/Inputs/Coca/Centroides\"\n",
    "elif user==\"ccastro\":\n",
    "    root=\"C:/Users/ccastro/OneDrive - Universidad de los andes/REDD+ bases\"\n",
    "    densidades=\"C:/Users/ccastro/OneDrive - Universidad de los andes/REDD+ bases/Inputs/Coca/Centroides\""
   ]
  },
  {
   "cell_type": "markdown",
   "metadata": {},
   "source": [
    "Agregar polígonos de coca"
   ]
  },
  {
   "cell_type": "code",
   "execution_count": 4,
   "metadata": {},
   "outputs": [],
   "source": [
    "# Temporal\n",
    "user=os.environ.get('USER')\n",
    "\n",
    "if user==\"ccastro\":\n",
    "    root=\"C:/Users/ccastro/OneDrive - Universidad de los andes/REDD+ bases\"\n",
    "    densidades=\"C:/Users/ccastro/OneDrive - Universidad de los andes/REDD+ bases/Inputs/Coca/Centroides\"\n"
   ]
  },
  {
   "cell_type": "code",
   "execution_count": 6,
   "metadata": {},
   "outputs": [
    {
     "ename": "FileNotFoundError",
     "evalue": "[Errno 2] No such file or directory: '/Users/carolinacastroosorio/Library/CloudStorage/OneDrive-UniversidaddelosAndes/REDD+ bases\\\\Inputs'",
     "output_type": "error",
     "traceback": [
      "\u001b[0;31m---------------------------------------------------------------------------\u001b[0m",
      "\u001b[0;31mFileNotFoundError\u001b[0m                         Traceback (most recent call last)",
      "Cell \u001b[0;32mIn[6], line 3\u001b[0m\n\u001b[1;32m      1\u001b[0m \u001b[38;5;66;03m#Cuadrícula completa para el Pacífico de 1km2\u001b[39;00m\n\u001b[0;32m----> 3\u001b[0m \u001b[43mos\u001b[49m\u001b[38;5;241;43m.\u001b[39;49m\u001b[43mchdir\u001b[49m\u001b[43m(\u001b[49m\u001b[43mroot\u001b[49m\u001b[38;5;241;43m+\u001b[39;49m\u001b[38;5;124;43m\"\u001b[39;49m\u001b[38;5;124;43m\\\u001b[39;49m\u001b[38;5;124;43mInputs\u001b[39;49m\u001b[38;5;124;43m\"\u001b[39;49m\u001b[43m)\u001b[49m\n\u001b[1;32m      4\u001b[0m \u001b[38;5;66;03m#grid_pacifico=gpd.read_file('C:/Users/ccastro/OneDrive - Universidad de los andes/REDD+ bases/Inputs/Grid Pacifico')\u001b[39;00m\n\u001b[1;32m      5\u001b[0m \u001b[38;5;66;03m#C:\\Users\\ccastro\\OneDrive - Universidad de los andes\\REDD+ bases\\Inputs\u001b[39;00m\n\u001b[1;32m      6\u001b[0m \n\u001b[1;32m      7\u001b[0m \u001b[38;5;66;03m#Arreglar Grid\u001b[39;00m\n\u001b[1;32m      8\u001b[0m grid_pacifico[\u001b[38;5;124m'\u001b[39m\u001b[38;5;124mid\u001b[39m\u001b[38;5;124m'\u001b[39m]\u001b[38;5;241m=\u001b[39m\u001b[38;5;28mrange\u001b[39m(\u001b[38;5;241m0\u001b[39m,\u001b[38;5;28mlen\u001b[39m(grid_pacifico))\n",
      "\u001b[0;31mFileNotFoundError\u001b[0m: [Errno 2] No such file or directory: '/Users/carolinacastroosorio/Library/CloudStorage/OneDrive-UniversidaddelosAndes/REDD+ bases\\\\Inputs'"
     ]
    }
   ],
   "source": [
    "#Cuadrícula completa para el Pacífico de 1km2\n",
    "\n",
    "#os.chdir(root+\"\\Inputs\")\n",
    "#grid_pacifico=gpd.read_file('C:/Users/ccastro/OneDrive - Universidad de los andes/REDD+ bases/Inputs/Grid Pacifico')\n",
    "#C:\\Users\\ccastro\\OneDrive - Universidad de los andes\\REDD+ bases\\Inputs\n",
    "\n",
    "#Arreglar Grid\n",
    "grid_pacifico['id']=range(0,len(grid_pacifico))\n",
    "grid_pacifico=grid_pacifico.loc[:,['id', 'geometry']]\n",
    "grid_pacifico['centroids']=grid_pacifico['geometry'].centroid\n"
   ]
  },
  {
   "cell_type": "markdown",
   "metadata": {},
   "source": [
    "Explicación de lo que viene: for i in os.listdir():: Inicia un bucle for que recorre los archivos en el directorio actual (el cual se cambió previamente usando os.chdir(densidades)).\n",
    "\n",
    "if '.DS' not in i:: Verifica si el nombre del archivo (i) no contiene '.DS' en su nombre. Esto es probablemente para evitar archivos ocultos generados en sistemas macOS que podrían causar problemas al intentar leerlos.\n",
    "\n",
    "df=gpd.read_file(i): Lee el archivo geoespacial (shapefile u otro formato compatible) especificado por el nombre de archivo i utilizando GeoPandas y almacena los datos en el DataFrame df.\n",
    "\n",
    "centroides_densidades.append(df): Agrega el DataFrame df (que contiene los datos de un archivo de centroides) a la lista centroides_densidades. Esto acumula todos los DataFrames leídos en la lista.\n",
    "\n",
    "centroides_densidades=rdf = gpd.GeoDataFrame(pd.concat(centroides_densidades, ignore_index=True), crs=centroides_densidades[0].crs): Concatena todos los DataFrames almacenados en la lista centroides_densidades en un único GeoDataFrame utilizando pd.concat(). El argumento ignore_index=True asegura que los índices se vuelvan a generar. El GeoDataFrame resultante se asigna a la variable centroides_densidades, y también se asigna a rdf (aunque esto último no parece necesario).\n",
    "\n",
    "centroides_densidades.sort_values(by='ano', inplace=True): Ordena el GeoDataFrame centroides_densidades según los valores en la columna 'ano' en su lugar, utilizando el método sort_values(). El argumento inplace=True hace que la operación de clasificación se realice directamente en el GeoDataFrame sin necesidad de asignación adicional."
   ]
  },
  {
   "cell_type": "code",
   "execution_count": 28,
   "metadata": {},
   "outputs": [],
   "source": [
    "#Leer archivos de centroides para concatenar\n",
    "densidades='C:/Users/ccastro/OneDrive - Universidad de los andes/REDD+ bases/Inputs/Coca/Centroides'\n",
    "#Se crea una lista vacía llamada centroides_densidades\n",
    "centroides_densidades=[]\n",
    "os.chdir(densidades)\n",
    "\n",
    "\n",
    "for a in centroides_densidades.ano.drop_duplicates():\n",
    "    dens=centroides_densidades.loc[centroides_densidades.ano==a,['geometry','ano','areacoca']]\n",
    "    tr_a=grid_pacifico.sjoin(dens, how='left', predicate='intersects')\n",
    "    tr_a['ano']=a\n",
    "    tr_a=tr_a.drop(columns='index_right').drop_duplicates()\n",
    "    trans.append(tr_a)\n",
    "panel_grid=pd.concat(trans)\n",
    "panel_grid.sort_values(by=['id', 'ano'], inplace=True)\n",
    "panel_grid.reset_index(drop=True, inplace=True)\n",
    "panel_grid.fillna(0, inplace=True)\n",
    "    if '.DS' not in i: \n",
    "        df=gpd.read_file(i)\n",
    "        centroides_densidades.append(df)\n",
    "centroides_densidades=rdf = gpd.GeoDataFrame(pd.concat(centroides_densidades,\n",
    "                                                ignore_index=True), crs=centroides_densidades[0].crs)\n",
    "centroides_densidades.sort_values(by='ano', inplace=True)"
   ]
  },
  {
   "cell_type": "markdown",
   "metadata": {},
   "source": [
    "Comentario: \n",
    "trans=[]: Se inicia una lista vacía llamada trans que se utilizará para almacenar los resultados de las transformaciones en el bucle.\n",
    "\n",
    "for a in centroides_densidades.ano.drop_duplicates():: Inicia un bucle for que itera a través de los años únicos presentes en la columna 'ano' del DataFrame centroides_densidades. Esto significa que el bucle se ejecutará una vez para cada año presente en los datos.\n",
    "\n",
    "dens=centroides_densidades.loc[centroides_densidades.ano==a,['geometry','ano','areacoca']]: Crea un DataFrame dens filtrando el DataFrame centroides_densidades para obtener las filas correspondientes al año actual (a). Solo se seleccionan las columnas 'geometry', 'ano' y 'areacoca'.\n",
    "\n",
    "tr_a=grid_pacifico.sjoin(dens, how='left', predicate='intersects'): Realiza una unión espacial izquierda entre el DataFrame dens y el DataFrame grid_pacifico, utilizando la columna 'geometry' para determinar la intersección espacial. El resultado se almacena en el DataFrame tr_a.\n",
    "\n",
    "tr_a['ano']=a: Agrega una columna 'ano' al DataFrame tr_a y le asigna el valor del año actual (a).\n",
    "\n",
    "tr_a=tr_a.drop(columns='index_right').drop_duplicates(): Elimina la columna 'index_right' (posiblemente generada por la unión espacial) del DataFrame tr_a y elimina filas duplicadas basadas en todas las columnas.\n",
    "\n",
    "trans.append(tr_a): Agrega el DataFrame tr_a a la lista trans, que contiene los resultados de todas las transformaciones.\n",
    "\n",
    "panel_grid=pd.concat(trans): Concatena todos los DataFrames en la lista trans en un solo DataFrame llamado panel_grid.\n",
    "\n",
    "panel_grid.sort_values(by=['id', 'ano'], inplace=True): Ordena el DataFrame panel_grid primero por la columna 'id' y luego por la columna 'ano' en su lugar, utilizando el método sort_values().\n",
    "\n",
    "panel_grid.reset_index(drop=True, inplace=True): Restablece el índice del DataFrame panel_grid y elimina la columna del índice anterior.\n",
    "\n",
    "panel_grid.fillna(0, inplace=True): Rellena los valores faltantes (NaN) en el DataFrame panel_grid con ceros."
   ]
  },
  {
   "cell_type": "code",
   "execution_count": 29,
   "metadata": {},
   "outputs": [],
   "source": [
    "#Crear panel anual\n",
    "\n",
    "trans=[]\n",
    "for a in centroides_densidades.ano.drop_duplicates():\n",
    "    dens=centroides_densidades.loc[centroides_densidades.ano==a,['geometry','ano','areacoca']]\n",
    "    tr_a=grid_pacifico.sjoin(dens, how='left', predicate='intersects')\n",
    "    tr_a['ano']=a\n",
    "    tr_a=tr_a.drop(columns='index_right').drop_duplicates()\n",
    "    trans.append(tr_a)\n",
    "panel_grid=pd.concat(trans)\n",
    "panel_grid.sort_values(by=['id', 'ano'], inplace=True)\n",
    "panel_grid.reset_index(drop=True, inplace=True)\n",
    "panel_grid.fillna(0, inplace=True)"
   ]
  },
  {
   "cell_type": "markdown",
   "metadata": {},
   "source": [
    "Agregar Consejos Comunitarios para identificar polígonos tratados y no tratados"
   ]
  },
  {
   "cell_type": "code",
   "execution_count": 35,
   "metadata": {},
   "outputs": [],
   "source": [
    "#cc=gpd.read_file(root+'/Inputs/Consejos Comunitarios', encoding='utf-8')\n",
    "cc=gpd.read_file(r\"C:/Users/ccastro/OneDrive - Universidad de los andes/REDD+ bases/Inputs/Consejos Comunitarios\")\n",
    "# Selección de Columnas Útiles y Eliminación de Duplicados\n",
    "cc=cc.loc[:,['NOMBRE_COM', 'ANO', 'RESOLUCION', 'geometry']].drop_duplicates()\n",
    "\n",
    "# Agregamos los Consejos Comunitarios a grid_pacifico. Se hace la intersección y se eliminan lineas duplicadas\n",
    "grid_pacifico=grid_pacifico.set_geometry('centroids')\n",
    "grid_pacifico=grid_pacifico.sjoin(cc, how='left', predicate='intersects')\n",
    "grid_pacifico=grid_pacifico.drop(columns='index_right').drop_duplicates(subset=['id'],keep='first')"
   ]
  },
  {
   "cell_type": "code",
   "execution_count": 36,
   "metadata": {},
   "outputs": [],
   "source": [
    "# Lista de Consejos Comunitarios tratados\n",
    "\n",
    "tratados=[\"Bajo Mira y Frontera\", \"Acapa\", \"Cajambre\", \"La Plata\", \"Calima\", \"Madre\",\n",
    "\"Concosta\", \"Río Pepe\", \"Chicao\", \"Buenavista\", \"Domingodó\", \"Montaño\", \"Sivi\", \"Usaragá\", \"Pizarro\",\n",
    "\"Piliz\", \"Acaba\", \"Tolo\", \"Vígia De Curvaradó Y Santa Rosa De Limón\", \"Apartadó Buenavista\", \n",
    "'General De La Costa Pacífica Del Norte - Los Delfines','Cupica','Mayor Del Cantón De San Pablo \"Acisanp\"',  \n",
    "'Consejo Comunitario Integral De Lloro_Cocoillo','Mayor De Novita', 'Pedeguita Y Mancilla',  'Cértegui',  \n",
    "'Río Jiguamiandó',  'La Cuenca Del Río Tolo Y Zona Costera Sur',  'San Andrés De Usaragá',  'Sivirù',  \n",
    "'Pizarro', 'Río  Pilizá', 'General Del Municipìo De Nuquí - Los Riscales',  'Río Domingodó',  \n",
    "'Consejo Comunitario De La Madre',  'Consejo Comunitario De Chicao',  'Río Curvaradó',  'Río Montaño',  \n",
    "'Apartadó Buenavista',  'Río Pepe', 'Río Baudó  Acaba',  'Mayor Del Municipio De Condoto',  'Acapa',  'Mayor Del Medio Atrato - Acia',  \n",
    "'Bajo Mira Y Frontera',\"Alto Guapi\",\"Mayor Del Municipio De Juradó\", \"Mayor De Novita\", \"Rio Naya\", \"Cuenca Baja Del Río Calima\", \"Bahía Málaga -La Plata\",\"El Río Cajambre\" ]\n",
    "\n",
    "# Dummy por cada año de tratamiento\n",
    "cohorte_2009=[\"La Cuenca Del Río Tolo Y Zona Costera Sur\"]\n",
    "cohorte_2011=[\"General De La Costa Pacífica Del Norte - Los Delfines\"]\n",
    "cohorte_2014=[\"Cuenca Baja Del Río Calima\", \"Bajo Mira Y Frontera\", \"Acapa\",\"Consejo Comunitario De Chicao\",\"Consejo Comunitario De La Madre\",\n",
    "               \"Apartadó Buenavista\", \"Río Domingodó\", \"Vígia De Curvaradó Y Santa Rosa De Limón\", \"Río Montaño\",\n",
    "               \"Río Pepe\", \"Río Baudó  Acaba\",\"Bahía Málaga -La Plata\", \"El Río Cajambre\", \"Concosta\", \"Sivirú\",\"San Andrés De Usaragá\", \"Pizarro\", \"Río  Pilizá\" ]\n",
    "cohorte_2015=['Mayor Del Cantón De San Pablo \"Acisanp\"', 'Consejo Comunitario Integral De Lloro_Cocoillo', \"Cértegui\", 'General Del Municipìo De Nuquí - Los Riscales']\n",
    "cohorte_2016=['Rio Naya', \"Mator De Novita\", 'Mayor Del Municipio De Juradó']\n",
    "cohorte_2017=['Mayor Del Medio Atrato - Acia']\n",
    "cohorte_2018=['Alto Guapi']\n",
    "cohorte_2019=[\"Mayor Del Municipio De Condoto\"]\n",
    "cohorte_2020=['Pedeguita Y Mancilla','Río Jiguamiandó']\n"
   ]
  },
  {
   "cell_type": "code",
   "execution_count": 37,
   "metadata": {},
   "outputs": [],
   "source": [
    "# Asignar tratados y no tratados\n",
    "\n",
    "grid_pacifico['Di']=np.where(grid_pacifico.loc[:,'NOMBRE_COM'].isin(tratados),1,0)\n",
    "\n",
    "#Creo cada dummy \n",
    "grid_pacifico['2009']=np.where(grid_pacifico.loc[:,'NOMBRE_COM'].isin(cohorte_2009),1,0)\n",
    "grid_pacifico['2011']=np.where(grid_pacifico.loc[:,'NOMBRE_COM'].isin(cohorte_2011),1,0)\n",
    "grid_pacifico['2014']=np.where(grid_pacifico.loc[:,'NOMBRE_COM'].isin(cohorte_2014),1,0)\n",
    "grid_pacifico['2015']=np.where(grid_pacifico.loc[:,'NOMBRE_COM'].isin(cohorte_2015),1,0)\n",
    "grid_pacifico['2016']=np.where(grid_pacifico.loc[:,'NOMBRE_COM'].isin(cohorte_2016),1,0)\n",
    "grid_pacifico['2017']=np.where(grid_pacifico.loc[:,'NOMBRE_COM'].isin(cohorte_2017),1,0)\n",
    "grid_pacifico['2018']=np.where(grid_pacifico.loc[:,'NOMBRE_COM'].isin(cohorte_2018),1,0)\n",
    "grid_pacifico['2019']=np.where(grid_pacifico.loc[:,'NOMBRE_COM'].isin(cohorte_2019),1,0)\n",
    "grid_pacifico['2020']=np.where(grid_pacifico.loc[:,'NOMBRE_COM'].isin(cohorte_2020),1,0)\n"
   ]
  },
  {
   "cell_type": "markdown",
   "metadata": {},
   "source": [
    "El último paso es pegar las dos bases de datos y exportar el resultado."
   ]
  },
  {
   "cell_type": "code",
   "execution_count": 38,
   "metadata": {},
   "outputs": [],
   "source": [
    "base_coca=panel_grid.merge(grid_pacifico)"
   ]
  },
  {
   "cell_type": "code",
   "execution_count": 39,
   "metadata": {},
   "outputs": [
    {
     "data": {
      "text/plain": [
       "True"
      ]
     },
     "execution_count": 39,
     "metadata": {},
     "output_type": "execute_result"
    }
   ],
   "source": [
    "len(base_coca)==len(panel_grid) #Todas las observaciones deben hacer match."
   ]
  },
  {
   "cell_type": "code",
   "execution_count": 40,
   "metadata": {},
   "outputs": [],
   "source": [
    "#Exportación\n",
    "#os.chdir(root+\"/Outputs Bases\")\n",
    "os.chdir(r\"C:/Users/ccastro/OneDrive - Universidad de los andes/REDD+ bases/Outputs Bases\")\n",
    "base_coca.to_parquet(\"base_coca.parquet\")"
   ]
  },
  {
   "cell_type": "markdown",
   "metadata": {},
   "source": []
  },
  {
   "cell_type": "code",
   "execution_count": 7,
   "metadata": {},
   "outputs": [
    {
     "ename": "NameError",
     "evalue": "name 'base_coca' is not defined",
     "output_type": "error",
     "traceback": [
      "\u001b[0;31m---------------------------------------------------------------------------\u001b[0m",
      "\u001b[0;31mNameError\u001b[0m                                 Traceback (most recent call last)",
      "Cell \u001b[0;32mIn[7], line 1\u001b[0m\n\u001b[0;32m----> 1\u001b[0m \u001b[38;5;28mprint\u001b[39m(\u001b[43mbase_coca\u001b[49m\u001b[38;5;241m.\u001b[39mhead())\n",
      "\u001b[0;31mNameError\u001b[0m: name 'base_coca' is not defined"
     ]
    }
   ],
   "source": [
    "print(base_coca.head())"
   ]
  },
  {
   "cell_type": "code",
   "execution_count": 42,
   "metadata": {},
   "outputs": [
    {
     "ename": "NameError",
     "evalue": "name 'sns' is not defined",
     "output_type": "error",
     "traceback": [
      "\u001b[1;31m---------------------------------------------------------------------------\u001b[0m",
      "\u001b[1;31mNameError\u001b[0m                                 Traceback (most recent call last)",
      "Cell \u001b[1;32mIn[42], line 1\u001b[0m\n\u001b[1;32m----> 1\u001b[0m tend_plt\u001b[38;5;241m=\u001b[39m\u001b[43msns\u001b[49m\u001b[38;5;241m.\u001b[39mlineplot(data\u001b[38;5;241m=\u001b[39mbase_coca, x\u001b[38;5;241m=\u001b[39m\u001b[38;5;124m'\u001b[39m\u001b[38;5;124mano\u001b[39m\u001b[38;5;124m'\u001b[39m, y\u001b[38;5;241m=\u001b[39m\u001b[38;5;124m'\u001b[39m\u001b[38;5;124mmean_coca\u001b[39m\u001b[38;5;124m'\u001b[39m, hue\u001b[38;5;241m=\u001b[39m\u001b[38;5;124m'\u001b[39m\u001b[38;5;124mDi\u001b[39m\u001b[38;5;124m'\u001b[39m)\n",
      "\u001b[1;31mNameError\u001b[0m: name 'sns' is not defined"
     ]
    }
   ],
   "source": [
    "tend_plt=sns.lineplot(data=base_coca, x='ano', y='mean_coca', hue='Di')"
   ]
  },
  {
   "cell_type": "code",
   "execution_count": 6,
   "metadata": {
    "scrolled": true
   },
   "outputs": [
    {
     "ename": "NameError",
     "evalue": "name 'base_coca' is not defined",
     "output_type": "error",
     "traceback": [
      "\u001b[0;31m---------------------------------------------------------------------------\u001b[0m",
      "\u001b[0;31mNameError\u001b[0m                                 Traceback (most recent call last)",
      "Cell \u001b[0;32mIn[6], line 5\u001b[0m\n\u001b[1;32m      3\u001b[0m \u001b[38;5;66;03m# Mapea los valores de 'Di' a las etiquetas deseadas\u001b[39;00m\n\u001b[1;32m      4\u001b[0m di_labels \u001b[38;5;241m=\u001b[39m {\u001b[38;5;241m1\u001b[39m: \u001b[38;5;124m'\u001b[39m\u001b[38;5;124mTratados\u001b[39m\u001b[38;5;124m'\u001b[39m, \u001b[38;5;241m0\u001b[39m: \u001b[38;5;124m'\u001b[39m\u001b[38;5;124mControles\u001b[39m\u001b[38;5;124m'\u001b[39m}\n\u001b[0;32m----> 5\u001b[0m base_coca[\u001b[38;5;124m'\u001b[39m\u001b[38;5;124mDi_Label\u001b[39m\u001b[38;5;124m'\u001b[39m] \u001b[38;5;241m=\u001b[39m \u001b[43mbase_coca\u001b[49m[\u001b[38;5;124m'\u001b[39m\u001b[38;5;124mDi\u001b[39m\u001b[38;5;124m'\u001b[39m]\u001b[38;5;241m.\u001b[39mmap(di_labels)\n\u001b[1;32m      7\u001b[0m plt\u001b[38;5;241m.\u001b[39mfigure(figsize\u001b[38;5;241m=\u001b[39m(\u001b[38;5;241m10\u001b[39m, \u001b[38;5;241m6\u001b[39m))  \u001b[38;5;66;03m# Tamaño del gráfico (ancho, alto)\u001b[39;00m\n\u001b[1;32m      9\u001b[0m \u001b[38;5;66;03m# Itera sobre cada grupo 'Di_Label' y grafica el promedio anual de 'areacoca'\u001b[39;00m\n",
      "\u001b[0;31mNameError\u001b[0m: name 'base_coca' is not defined"
     ]
    }
   ],
   "source": [
    "import matplotlib.pyplot as plt\n",
    "\n",
    "# Mapea los valores de 'Di' a las etiquetas deseadas\n",
    "di_labels = {1: 'Tratados', 0: 'Controles'}\n",
    "base_coca['Di_Label'] = base_coca['Di'].map(di_labels)\n",
    "\n",
    "plt.figure(figsize=(10, 6))  # Tamaño del gráfico (ancho, alto)\n",
    "\n",
    "# Itera sobre cada grupo 'Di_Label' y grafica el promedio anual de 'areacoca'\n",
    "for category, group in base_coca.groupby('Di_Label'):\n",
    "    annual_mean_areacoca = group.groupby('ano')['areacoca'].mean()\n",
    "    plt.plot(annual_mean_areacoca.index, annual_mean_areacoca.values, marker='o', label=category)\n",
    "\n",
    "plt.xlabel('Año')  # Etiqueta para el eje x\n",
    "plt.ylabel('Promedio Anual de Área de Coca')  # Etiqueta para el eje y\n",
    "plt.title('Promedio Anual de Área de Coca por Grupo Di')  # Título del gráfico\n",
    "plt.legend()  # Muestra leyendas para cada categoría 'Di_Label'\n",
    "plt.grid(True)  # Agrega una cuadrícula al gráfico\n",
    "plt.show()  # Muestra el gráfico\n"
   ]
  },
  {
   "cell_type": "markdown",
   "metadata": {},
   "source": [
    "## NASA FDLAS"
   ]
  },
  {
   "cell_type": "code",
   "execution_count": 2,
   "metadata": {},
   "outputs": [],
   "source": [
    "fldas=gpd.read_parquet('/Users/carolinacastroosorio/Library/CloudStorage/OneDrive-UniversidaddelosAndes/REDD+ bases/Inputs/FLDAS_2001_2020.parquet')\n",
    "fldas['ano']=fldas.quarter.apply(lambda x: re.search(r'\\d+',x).group(0)).astype(int)\n",
    "fldas['quarter']=fldas.quarter.apply(lambda x: re.search(r'Q\\d',x).group(0))\n",
    "fldas.drop(columns='coords', inplace=True)\n",
    "fldas=fldas.pivot(index=['geometry', 'ano'], columns=['quarter'])\n",
    "fldas.columns = fldas.columns.to_series().str.join('_')\n",
    "fldas.reset_index(inplace=True)\n",
    "fldas=gpd.GeoDataFrame(fldas, crs=\"EPSG:3116\")"
   ]
  },
  {
   "cell_type": "code",
   "execution_count": null,
   "metadata": {},
   "outputs": [],
   "source": [
    "panel_grid['centroids']=panel_grid.centroid\n",
    "panel_grid=panel_grid.set_geometry('centroids')\n",
    "grid_pacifico['centroids']=grid_pacifico.centroid\n",
    "grid_pacifico=grid_pacifico.set_geometry('centroids')"
   ]
  },
  {
   "cell_type": "code",
   "execution_count": null,
   "metadata": {},
   "outputs": [],
   "source": [
    "#Crear panel anual (NASA)\n",
    "trans_nasa=[]\n",
    "for a in fldas.ano.drop_duplicates():\n",
    "    fldas_a=fldas.loc[fldas.ano==a,:]\n",
    "    tr_a=grid_pacifico.sjoin(fldas_a, how='left', predicate='intersects')\n",
    "    tr_a['ano']=a\n",
    "    tr_a=tr_a.drop(columns='index_right').drop_duplicates()\n",
    "    trans_nasa.append(tr_a)\n",
    "nasa_grid=pd.concat(trans_nasa)\n",
    "nasa_grid.sort_values(by=['id', 'ano'], inplace=True)\n",
    "nasa_grid.reset_index(drop=True, inplace=True)"
   ]
  },
  {
   "cell_type": "code",
   "execution_count": null,
   "metadata": {},
   "outputs": [],
   "source": [
    "def ckdnearest(gdfA, gdfB, geomcolA, geomcolB, namedist,anycol=False, colsB=None):\n",
    "    \n",
    "    original_idx=gdfB.index\n",
    "    A = np.concatenate(\n",
    "        [get_coordinates(geom) for geom in gdfA[geomcolA].to_list()])\n",
    "   \n",
    "    B = [get_coordinates(geom) for geom in gdfB[geomcolB].to_list()]\n",
    "    \n",
    "    B_ix = tuple(itertools.chain.from_iterable(\n",
    "        [itertools.repeat(i, x) for i, x in enumerate(list(map(len, B)))]))\n",
    "\n",
    "    B=np.concatenate(B)\n",
    "    ckd_tree = cKDTree(B)\n",
    "    dist, idx = ckd_tree.query(A, k=1)\n",
    "    dist=pd.Series(dist, name=namedist)\n",
    "    final_idx=[original_idx[B_ix[ix]] for ix in idx]\n",
    "    \n",
    "    if anycol==False:\n",
    "        gdf= pd.concat([gdfA,dist], axis=1)\n",
    "    else:\n",
    "        gdf = pd.concat([gdfA.reset_index(drop=True),dist,gdfB.loc[final_idx,colsB].reset_index(drop=True)], axis=1)\n",
    "    return gdf\n",
    "\n",
    "def ckdnearest_imputer(df, cols_to_impute):\n",
    "    \n",
    "    \"\"\"\n",
    "    Imputación por distancia geográfica. La base original debe tener una columna llamada centroids para calcular\n",
    "    las distancias\n",
    "    \"\"\"\n",
    "    \n",
    "    df=df.copy()\n",
    "    #Partir la base en dos\n",
    "    df1=df.loc[:,['centroids']+cols_to_impute]\n",
    "\n",
    "    nas=df1.loc[df1.isnull().any(axis=1)]\n",
    "    full=df1.loc[~df1.isnull().any(axis=1)]\n",
    "\n",
    "    #Guardamos los indices\n",
    "    nas_index=nas.index\n",
    "    full_index=full.index\n",
    "\n",
    "    #CDKTree\n",
    "    A = np.concatenate(\n",
    "        [get_coordinates(geom) for geom in nas['centroids'].to_list()])\n",
    "\n",
    "    B = [get_coordinates(geom) for geom in full['centroids'].to_list()]\n",
    "\n",
    "    B_ix = tuple(itertools.chain.from_iterable(\n",
    "        [itertools.repeat(i, x) for i, x in enumerate(list(map(len, B)))]))\n",
    "\n",
    "    B=np.concatenate(B)\n",
    "    ckd_tree = cKDTree(B)\n",
    "    dist, idx = ckd_tree.query(A, k=3) #Arbitrariamente son 3\n",
    "\n",
    "    #Idx\n",
    "    ind_list=[]\n",
    "    final_index=[]\n",
    "    for i in idx:\n",
    "        ind_list.append([B_ix[k] for k in i])\n",
    "\n",
    "    for l,e in enumerate(ind_list):\n",
    "        final_index.append([full_index[B_ix[i]] for i in ind_list[l]])\n",
    "\n",
    "    #Means\n",
    "    for f,na in enumerate(nas_index):\n",
    "        means=full.loc[final_index[f], cols_to_impute].mean(axis=0)\n",
    "        df.loc[na, cols_to_impute]=means\n",
    "        \n",
    "    return df"
   ]
  },
  {
   "cell_type": "code",
   "execution_count": null,
   "metadata": {},
   "outputs": [],
   "source": [
    "cols_to_impute=list(nasa_grid.columns[4:])"
   ]
  },
  {
   "cell_type": "code",
   "execution_count": null,
   "metadata": {},
   "outputs": [],
   "source": [
    "nasa_grid_full=nasa_grid.groupby('ano').apply(lambda x: ckdnearest_imputer(x, cols_to_impute))"
   ]
  },
  {
   "cell_type": "code",
   "execution_count": null,
   "metadata": {},
   "outputs": [],
   "source": [
    "nasa_grid_full.drop(columns=['geometry', 'centroids'], inplace=True)"
   ]
  },
  {
   "cell_type": "code",
   "execution_count": null,
   "metadata": {},
   "outputs": [],
   "source": [
    "#Actualizar panel completo\n",
    "panel_grid=panel_grid.merge(nasa_grid_full,how='left')"
   ]
  },
  {
   "cell_type": "markdown",
   "metadata": {},
   "source": [
    "## Panel CEDE"
   ]
  },
  {
   "cell_type": "code",
   "execution_count": null,
   "metadata": {},
   "outputs": [],
   "source": []
  },
  {
   "cell_type": "code",
   "execution_count": 51,
   "metadata": {},
   "outputs": [],
   "source": [
    "cede=r'C:\\Users\\ccastro\\OneDrive - Universidad de los andes\\REDD+ bases\\Inputs\\Panel CEDE'"
   ]
  },
  {
   "cell_type": "code",
   "execution_count": 56,
   "metadata": {},
   "outputs": [],
   "source": [
    "os.chdir(cede)\n",
    "violencia=pd.read_excel('PANEL_CONFLICTO_Y_VIOLENCIA(2021).xlsx')\n",
    "\n",
    "vars_interes=['terrorismot', #Acciones terroristas\n",
    "              'secuestros', #Secuestros\n",
    "              'acc_subversivas', #Total acciones subversivas\n",
    "              'cont_arm', #Total de contactos armados con grupos ilegales\n",
    "              'errad_manual', #Hectáreas erradicadas\n",
    "              'homicidios'\n",
    "              ]\n",
    "violencia=violencia.loc[:,['codmpio', 'ano']+vars_interes]"
   ]
  },
  {
   "cell_type": "markdown",
   "metadata": {},
   "source": [
    "OJOJOJOJOJOJO question xq reemplazar geometía original por centroides?"
   ]
  },
  {
   "cell_type": "code",
   "execution_count": 57,
   "metadata": {
    "scrolled": false
   },
   "outputs": [
    {
     "data": {
      "text/html": [
       "<div>\n",
       "<style scoped>\n",
       "    .dataframe tbody tr th:only-of-type {\n",
       "        vertical-align: middle;\n",
       "    }\n",
       "\n",
       "    .dataframe tbody tr th {\n",
       "        vertical-align: top;\n",
       "    }\n",
       "\n",
       "    .dataframe thead th {\n",
       "        text-align: right;\n",
       "    }\n",
       "</style>\n",
       "<table border=\"1\" class=\"dataframe\">\n",
       "  <thead>\n",
       "    <tr style=\"text-align: right;\">\n",
       "      <th></th>\n",
       "      <th>codmpio</th>\n",
       "      <th>ano</th>\n",
       "      <th>terrorismot</th>\n",
       "      <th>secuestros</th>\n",
       "      <th>acc_subversivas</th>\n",
       "      <th>cont_arm</th>\n",
       "      <th>errad_manual</th>\n",
       "      <th>homicidios</th>\n",
       "    </tr>\n",
       "  </thead>\n",
       "  <tbody>\n",
       "    <tr>\n",
       "      <th>0</th>\n",
       "      <td>5001.0</td>\n",
       "      <td>1993</td>\n",
       "      <td>NaN</td>\n",
       "      <td>NaN</td>\n",
       "      <td>NaN</td>\n",
       "      <td>NaN</td>\n",
       "      <td>NaN</td>\n",
       "      <td>NaN</td>\n",
       "    </tr>\n",
       "    <tr>\n",
       "      <th>1</th>\n",
       "      <td>5001.0</td>\n",
       "      <td>1994</td>\n",
       "      <td>NaN</td>\n",
       "      <td>NaN</td>\n",
       "      <td>NaN</td>\n",
       "      <td>NaN</td>\n",
       "      <td>NaN</td>\n",
       "      <td>NaN</td>\n",
       "    </tr>\n",
       "    <tr>\n",
       "      <th>2</th>\n",
       "      <td>5001.0</td>\n",
       "      <td>1995</td>\n",
       "      <td>NaN</td>\n",
       "      <td>NaN</td>\n",
       "      <td>NaN</td>\n",
       "      <td>NaN</td>\n",
       "      <td>NaN</td>\n",
       "      <td>NaN</td>\n",
       "    </tr>\n",
       "    <tr>\n",
       "      <th>3</th>\n",
       "      <td>5001.0</td>\n",
       "      <td>1996</td>\n",
       "      <td>NaN</td>\n",
       "      <td>81.0</td>\n",
       "      <td>NaN</td>\n",
       "      <td>NaN</td>\n",
       "      <td>NaN</td>\n",
       "      <td>NaN</td>\n",
       "    </tr>\n",
       "    <tr>\n",
       "      <th>4</th>\n",
       "      <td>5001.0</td>\n",
       "      <td>1997</td>\n",
       "      <td>NaN</td>\n",
       "      <td>74.0</td>\n",
       "      <td>NaN</td>\n",
       "      <td>NaN</td>\n",
       "      <td>NaN</td>\n",
       "      <td>NaN</td>\n",
       "    </tr>\n",
       "    <tr>\n",
       "      <th>...</th>\n",
       "      <td>...</td>\n",
       "      <td>...</td>\n",
       "      <td>...</td>\n",
       "      <td>...</td>\n",
       "      <td>...</td>\n",
       "      <td>...</td>\n",
       "      <td>...</td>\n",
       "      <td>...</td>\n",
       "    </tr>\n",
       "    <tr>\n",
       "      <th>32558</th>\n",
       "      <td>99001.0</td>\n",
       "      <td>2021</td>\n",
       "      <td>NaN</td>\n",
       "      <td>NaN</td>\n",
       "      <td>NaN</td>\n",
       "      <td>NaN</td>\n",
       "      <td>NaN</td>\n",
       "      <td>6.0</td>\n",
       "    </tr>\n",
       "    <tr>\n",
       "      <th>32559</th>\n",
       "      <td>99524.0</td>\n",
       "      <td>2021</td>\n",
       "      <td>NaN</td>\n",
       "      <td>NaN</td>\n",
       "      <td>NaN</td>\n",
       "      <td>NaN</td>\n",
       "      <td>NaN</td>\n",
       "      <td>1.0</td>\n",
       "    </tr>\n",
       "    <tr>\n",
       "      <th>32560</th>\n",
       "      <td>99624.0</td>\n",
       "      <td>2021</td>\n",
       "      <td>NaN</td>\n",
       "      <td>NaN</td>\n",
       "      <td>NaN</td>\n",
       "      <td>NaN</td>\n",
       "      <td>NaN</td>\n",
       "      <td>NaN</td>\n",
       "    </tr>\n",
       "    <tr>\n",
       "      <th>32561</th>\n",
       "      <td>99773.0</td>\n",
       "      <td>2021</td>\n",
       "      <td>NaN</td>\n",
       "      <td>NaN</td>\n",
       "      <td>NaN</td>\n",
       "      <td>NaN</td>\n",
       "      <td>NaN</td>\n",
       "      <td>4.0</td>\n",
       "    </tr>\n",
       "    <tr>\n",
       "      <th>32562</th>\n",
       "      <td>NaN</td>\n",
       "      <td>2019</td>\n",
       "      <td>NaN</td>\n",
       "      <td>NaN</td>\n",
       "      <td>NaN</td>\n",
       "      <td>NaN</td>\n",
       "      <td>NaN</td>\n",
       "      <td>NaN</td>\n",
       "    </tr>\n",
       "  </tbody>\n",
       "</table>\n",
       "<p>32563 rows × 8 columns</p>\n",
       "</div>"
      ],
      "text/plain": [
       "       codmpio   ano  terrorismot  secuestros  acc_subversivas  cont_arm  \\\n",
       "0       5001.0  1993          NaN         NaN              NaN       NaN   \n",
       "1       5001.0  1994          NaN         NaN              NaN       NaN   \n",
       "2       5001.0  1995          NaN         NaN              NaN       NaN   \n",
       "3       5001.0  1996          NaN        81.0              NaN       NaN   \n",
       "4       5001.0  1997          NaN        74.0              NaN       NaN   \n",
       "...        ...   ...          ...         ...              ...       ...   \n",
       "32558  99001.0  2021          NaN         NaN              NaN       NaN   \n",
       "32559  99524.0  2021          NaN         NaN              NaN       NaN   \n",
       "32560  99624.0  2021          NaN         NaN              NaN       NaN   \n",
       "32561  99773.0  2021          NaN         NaN              NaN       NaN   \n",
       "32562      NaN  2019          NaN         NaN              NaN       NaN   \n",
       "\n",
       "       errad_manual  homicidios  \n",
       "0               NaN         NaN  \n",
       "1               NaN         NaN  \n",
       "2               NaN         NaN  \n",
       "3               NaN         NaN  \n",
       "4               NaN         NaN  \n",
       "...             ...         ...  \n",
       "32558           NaN         6.0  \n",
       "32559           NaN         1.0  \n",
       "32560           NaN         NaN  \n",
       "32561           NaN         4.0  \n",
       "32562           NaN         NaN  \n",
       "\n",
       "[32563 rows x 8 columns]"
      ]
     },
     "execution_count": 57,
     "metadata": {},
     "output_type": "execute_result"
    }
   ],
   "source": [
    "violencia"
   ]
  },
  {
   "cell_type": "markdown",
   "metadata": {},
   "source": [
    "Falta correr acá todo lo de FDLAS para poder seguir con lo de abajo"
   ]
  },
  {
   "cell_type": "code",
   "execution_count": 60,
   "metadata": {},
   "outputs": [
    {
     "data": {
      "text/html": [
       "<div>\n",
       "<style scoped>\n",
       "    .dataframe tbody tr th:only-of-type {\n",
       "        vertical-align: middle;\n",
       "    }\n",
       "\n",
       "    .dataframe tbody tr th {\n",
       "        vertical-align: top;\n",
       "    }\n",
       "\n",
       "    .dataframe thead th {\n",
       "        text-align: right;\n",
       "    }\n",
       "</style>\n",
       "<table border=\"1\" class=\"dataframe\">\n",
       "  <thead>\n",
       "    <tr style=\"text-align: right;\">\n",
       "      <th></th>\n",
       "      <th>DPTO_CCDGO</th>\n",
       "      <th>MPIO_CCDGO</th>\n",
       "      <th>geometry</th>\n",
       "      <th>centroids</th>\n",
       "    </tr>\n",
       "  </thead>\n",
       "  <tbody>\n",
       "    <tr>\n",
       "      <th>0</th>\n",
       "      <td>18</td>\n",
       "      <td>001</td>\n",
       "      <td>POLYGON ((850567.651 734450.429, 850602.776 73...</td>\n",
       "      <td>POINT (835222.404 685239.772)</td>\n",
       "    </tr>\n",
       "    <tr>\n",
       "      <th>1</th>\n",
       "      <td>18</td>\n",
       "      <td>029</td>\n",
       "      <td>POLYGON ((797693.586 642855.101, 797693.823 64...</td>\n",
       "      <td>POINT (799100.771 627605.926)</td>\n",
       "    </tr>\n",
       "    <tr>\n",
       "      <th>2</th>\n",
       "      <td>18</td>\n",
       "      <td>094</td>\n",
       "      <td>POLYGON ((809754.098 685339.982, 809743.624 68...</td>\n",
       "      <td>POINT (799867.206 657813.668)</td>\n",
       "    </tr>\n",
       "    <tr>\n",
       "      <th>3</th>\n",
       "      <td>18</td>\n",
       "      <td>247</td>\n",
       "      <td>POLYGON ((857152.436 748523.984, 857180.000 74...</td>\n",
       "      <td>POINT (875773.988 689886.680)</td>\n",
       "    </tr>\n",
       "    <tr>\n",
       "      <th>4</th>\n",
       "      <td>18</td>\n",
       "      <td>256</td>\n",
       "      <td>POLYGON ((856617.069 736147.468, 857365.135 73...</td>\n",
       "      <td>POINT (871299.804 670685.042)</td>\n",
       "    </tr>\n",
       "    <tr>\n",
       "      <th>...</th>\n",
       "      <td>...</td>\n",
       "      <td>...</td>\n",
       "      <td>...</td>\n",
       "      <td>...</td>\n",
       "    </tr>\n",
       "    <tr>\n",
       "      <th>1117</th>\n",
       "      <td>25</td>\n",
       "      <td>290</td>\n",
       "      <td>POLYGON ((975638.881 980969.367, 975642.608 98...</td>\n",
       "      <td>POINT (965467.632 969855.245)</td>\n",
       "    </tr>\n",
       "    <tr>\n",
       "      <th>1118</th>\n",
       "      <td>25</td>\n",
       "      <td>662</td>\n",
       "      <td>POLYGON ((927827.917 1041265.704, 927839.486 1...</td>\n",
       "      <td>POINT (935553.506 1027108.560)</td>\n",
       "    </tr>\n",
       "    <tr>\n",
       "      <th>1119</th>\n",
       "      <td>73</td>\n",
       "      <td>349</td>\n",
       "      <td>POLYGON ((917504.922 1079725.053, 917524.682 1...</td>\n",
       "      <td>POINT (921778.141 1064536.303)</td>\n",
       "    </tr>\n",
       "    <tr>\n",
       "      <th>1120</th>\n",
       "      <td>05</td>\n",
       "      <td>631</td>\n",
       "      <td>POLYGON ((831074.846 1172630.978, 831079.949 1...</td>\n",
       "      <td>POINT (830487.670 1170774.455)</td>\n",
       "    </tr>\n",
       "    <tr>\n",
       "      <th>1121</th>\n",
       "      <td>05</td>\n",
       "      <td>380</td>\n",
       "      <td>POLYGON ((825683.945 1174361.833, 825698.151 1...</td>\n",
       "      <td>POINT (826041.928 1170708.856)</td>\n",
       "    </tr>\n",
       "  </tbody>\n",
       "</table>\n",
       "<p>1122 rows × 4 columns</p>\n",
       "</div>"
      ],
      "text/plain": [
       "     DPTO_CCDGO MPIO_CCDGO                                           geometry  \\\n",
       "0            18        001  POLYGON ((850567.651 734450.429, 850602.776 73...   \n",
       "1            18        029  POLYGON ((797693.586 642855.101, 797693.823 64...   \n",
       "2            18        094  POLYGON ((809754.098 685339.982, 809743.624 68...   \n",
       "3            18        247  POLYGON ((857152.436 748523.984, 857180.000 74...   \n",
       "4            18        256  POLYGON ((856617.069 736147.468, 857365.135 73...   \n",
       "...         ...        ...                                                ...   \n",
       "1117         25        290  POLYGON ((975638.881 980969.367, 975642.608 98...   \n",
       "1118         25        662  POLYGON ((927827.917 1041265.704, 927839.486 1...   \n",
       "1119         73        349  POLYGON ((917504.922 1079725.053, 917524.682 1...   \n",
       "1120         05        631  POLYGON ((831074.846 1172630.978, 831079.949 1...   \n",
       "1121         05        380  POLYGON ((825683.945 1174361.833, 825698.151 1...   \n",
       "\n",
       "                           centroids  \n",
       "0      POINT (835222.404 685239.772)  \n",
       "1      POINT (799100.771 627605.926)  \n",
       "2      POINT (799867.206 657813.668)  \n",
       "3      POINT (875773.988 689886.680)  \n",
       "4      POINT (871299.804 670685.042)  \n",
       "...                              ...  \n",
       "1117   POINT (965467.632 969855.245)  \n",
       "1118  POINT (935553.506 1027108.560)  \n",
       "1119  POINT (921778.141 1064536.303)  \n",
       "1120  POINT (830487.670 1170774.455)  \n",
       "1121  POINT (826041.928 1170708.856)  \n",
       "\n",
       "[1122 rows x 4 columns]"
      ]
     },
     "execution_count": 60,
     "metadata": {},
     "output_type": "execute_result"
    }
   ],
   "source": [
    "#Para pegar usamos el MGN\n",
    "\n",
    "os.chdir(r'C:\\Users\\ccastro\\OneDrive - Universidad de los andes\\REDD+ bases\\Inputs\\MGN_2018')\n",
    "mpios=gpd.read_file('MPIOS')\n",
    "mpios=mpios.loc[:,['DPTO_CCDGO','MPIO_CCDGO','geometry']]\n",
    "mpios['centroids']=mpios.centroid\n",
    "mpios.set_geometry('centroids')"
   ]
  },
  {
   "cell_type": "code",
   "execution_count": 61,
   "metadata": {
    "scrolled": true
   },
   "outputs": [
    {
     "ename": "NameError",
     "evalue": "name 'ckdnearest' is not defined",
     "output_type": "error",
     "traceback": [
      "\u001b[1;31m---------------------------------------------------------------------------\u001b[0m",
      "\u001b[1;31mNameError\u001b[0m                                 Traceback (most recent call last)",
      "Cell \u001b[1;32mIn[61], line 1\u001b[0m\n\u001b[1;32m----> 1\u001b[0m grid_pacifico\u001b[38;5;241m=\u001b[39m\u001b[43mckdnearest\u001b[49m(grid_pacifico, mpios, \u001b[38;5;124m'\u001b[39m\u001b[38;5;124mcentroids\u001b[39m\u001b[38;5;124m'\u001b[39m, \u001b[38;5;124m'\u001b[39m\u001b[38;5;124mgeometry\u001b[39m\u001b[38;5;124m'\u001b[39m, \u001b[38;5;124m'\u001b[39m\u001b[38;5;124mdist_mun\u001b[39m\u001b[38;5;124m'\u001b[39m, \u001b[38;5;28;01mTrue\u001b[39;00m,[\u001b[38;5;124m'\u001b[39m\u001b[38;5;124mDPTO_CCDGO\u001b[39m\u001b[38;5;124m'\u001b[39m,\u001b[38;5;124m'\u001b[39m\u001b[38;5;124mMPIO_CCDGO\u001b[39m\u001b[38;5;124m'\u001b[39m])\n",
      "\u001b[1;31mNameError\u001b[0m: name 'ckdnearest' is not defined"
     ]
    }
   ],
   "source": [
    "grid_pacifico=ckdnearest(grid_pacifico, mpios, 'centroids', 'geometry', 'dist_mun', True,['DPTO_CCDGO','MPIO_CCDGO'])"
   ]
  },
  {
   "cell_type": "code",
   "execution_count": null,
   "metadata": {},
   "outputs": [],
   "source": [
    "grid_cc.drop(columns=['dist_mun'], inplace=True)\n",
    "\n",
    "grid_cc['codmpio']=grid_cc['DPTO_CCDGO'].astype(str)+grid_cc['MPIO_CCDGO'].astype(str)\n",
    "grid_cc['codmpio']=grid_cc['codmpio'].astype(int)\n",
    "\n",
    "panel_cc=panel_cc.merge(grid_cc)\n",
    "\n",
    "panel_cc.drop(columns=['DPTO_CCDGO', 'MPIO_CCDGO'], inplace=True)\n",
    "\n",
    "panel_cc=panel_cc.merge(violencia, how='left')\n",
    "panel_cc=panel_cc.fillna(0)\n",
    "\n",
    "os.chdir(capas_3116)\n",
    "#panel_cc.to_parquet('panel_cc.parquet')\n",
    "\n",
    "grid_cc=grid_cc.drop(columns='centroids')\n",
    "grid_cc=grid_cc.set_geometry('geometry')\n",
    "\n",
    "#grid_cc.to_file('grid_cc')\n",
    "\n",
    "panel_stat=ckdnearest(panel_grid, mpios, 'centroids', 'geometry', 'dist_mun', True,['DPTO_CCDGO','MPIO_CCDGO'])\n",
    "panel_stat['codmpio']=panel_stat['DPTO_CCDGO'].astype(str)+panel_stat['MPIO_CCDGO'].astype(str)\n",
    "panel_stat['codmpio']=panel_stat['codmpio'].astype(int)\n",
    "\n",
    "panel_stat=panel_stat.set_geometry('centroids')\n",
    "panel_stat=panel_stat.sjoin(grid_cc, how='left', predicate='intersects')\n",
    "panel_stat['codmpio']=panel_stat['codmpio_left']\n",
    "panel_stat.drop(columns=['dist_mun', 'centroids','codmpio_right', 'MPIO_CCDGO_right', \n",
    "                         'DPTO_CCDGO_right', 'id_right', 'index_right', 'codmpio_left',\n",
    "                        'MPIO_CCDGO_left', 'DPTO_CCDGO_left'], inplace=True)\n",
    "panel_stat=panel_stat.set_geometry('geometry')\n",
    "\n",
    "len(panel_stat)\n",
    "\n",
    "panel_stat=panel_stat.merge(violencia, how='left')\n",
    "\n",
    "len(panel_stat)\n",
    "\n",
    "panel_stat.to_parquet('/Users/santiagoherreragarcia/Library/CloudStorage/OneDrive-UniversidaddelosAndes/Semestre 2022-2/Econometria Avanzada/Trabajo Final/inputs/panel_stat.parquet')\n",
    "\n",
    "len(grid_cc)\n",
    "\n",
    "54718*20\n",
    "\n",
    "panel_stat=gpd.read_parquet('/Users/santiagoherreragarcia/Library/CloudStorage/OneDrive-UniversidaddelosAndes/Semestre 2022-2/Econometria Avanzada/Trabajo Final/inputs/panel_stat.parquet')\n",
    "\n",
    "panel_stat.head()\n",
    "\n",
    "panel_stat.columns\n",
    "\n",
    "2685700/20"
   ]
  }
 ],
 "metadata": {
  "kernelspec": {
   "display_name": "Python 3 (ipykernel)",
   "language": "python",
   "name": "python3"
  },
  "language_info": {
   "codemirror_mode": {
    "name": "ipython",
    "version": 3
   },
   "file_extension": ".py",
   "mimetype": "text/x-python",
   "name": "python",
   "nbconvert_exporter": "python",
   "pygments_lexer": "ipython3",
   "version": "3.10.10"
  }
 },
 "nbformat": 4,
 "nbformat_minor": 2
}
