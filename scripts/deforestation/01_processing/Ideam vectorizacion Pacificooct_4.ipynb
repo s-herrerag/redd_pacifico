{
 "cells": [
  {
   "cell_type": "markdown",
   "metadata": {},
   "source": [
    "## Vectorización IDEAM"
   ]
  },
  {
   "cell_type": "code",
   "execution_count": 1,
   "metadata": {},
   "outputs": [],
   "source": [
    "from osgeo import gdal, ogr\n",
    "import sys\n",
    "import os\n",
    "import numpy as np\n",
    "import fiona\n",
    "import rasterio\n",
    "import rasterio.mask\n",
    "os.environ['USE_PYGEOS'] = '0'\n",
    "from rasterio.features import shapes\n",
    "from shapely.geometry import shape\n",
    "import shapely \n",
    "import shapely.speedups\n",
    "import geopandas as gpd\n",
    "import pandas as pd\n",
    "import time\n",
    "import re"
   ]
  },
  {
   "cell_type": "code",
   "execution_count": 2,
   "metadata": {},
   "outputs": [],
   "source": [
    "ideam_dir='/Users/santiagoherreragarcia/Library/CloudStorage/OneDrive-Bibliotecascompartidas:Universidaddelosandes/Jeimy Carolina Hormizda Fonseca - Cambio de cobertura 16_06_2023/IDEAM IMG'\n",
    "vector_dir='/Users/santiagoherreragarcia/Library/CloudStorage/OneDrive-Bibliotecascompartidas:Universidaddelosandes/Jeimy Carolina Hormizda Fonseca - Cambio de cobertura 16_06_2023/IDEAM Vectorizada (Deforestacion)/Points Vector (pixeles 1 y 2)'\n",
    "pacifico_tifs='/Users/santiagoherreragarcia/Library/CloudStorage/OneDrive-Bibliotecascompartidas:Universidaddelosandes/Jeimy Carolina Hormizda Fonseca - Cambio de cobertura 16_06_2023/Pacifico Tifs'"
   ]
  },
  {
   "cell_type": "code",
   "execution_count": 3,
   "metadata": {},
   "outputs": [],
   "source": [
    "os.chdir(ideam_dir)\n",
    "\n",
    "#Guardamos todos los archivos de Hansen que abarcan Colombia en una lista.\n",
    "defo_files=[]\n",
    "for i in os.listdir():\n",
    "    if '.img' not in i:\n",
    "        continue\n",
    "    else:\n",
    "        data=rasterio.open(i, 'r')\n",
    "        defo_files.append(data)"
   ]
  },
  {
   "cell_type": "code",
   "execution_count": 4,
   "metadata": {},
   "outputs": [],
   "source": [
    "#Los otros datos importantes están en el shapefile del Pacífico\n",
    "pacifico_gdf=gpd.read_file(\"/Users/santiagoherreragarcia/Library/CloudStorage/OneDrive-Bibliotecascompartidas:Universidaddelosandes/Carolina Castro Osorio - REDD+ bases/Inputs/pacifico_disuelto\")"
   ]
  },
  {
   "cell_type": "code",
   "execution_count": 5,
   "metadata": {},
   "outputs": [],
   "source": [
    "#Creamos nuevos tiffs con la info del Pacífico únicamente\n",
    "for f in defo_files:\n",
    "    project=re.search('(.*?)(?=.img)', f.name).group(0).replace(' ', '_')\n",
    "    file_name='/pacifico_ideam_{}.tif'.format(project)\n",
    "\n",
    "    #Usar mask del Pacifico \n",
    "    pacifico_reproj=pacifico_gdf.to_crs(f.crs)\n",
    "    masked_raster, masked_raster_transform = rasterio.mask.mask(f, pacifico_reproj[['geometry']].values.flatten(), crop=True)\n",
    "\n",
    "    #Escribir raster\n",
    "    f_meta=f.meta\n",
    "    f_meta.update({\"driver\": \"GTiff\",\n",
    "                 \"height\": masked_raster.shape[1],\n",
    "                 \"width\": masked_raster.shape[2],\n",
    "                 \"transform\": masked_raster_transform})\n",
    "\n",
    "    with rasterio.open(pacifico_tifs+\"/\"+file_name, \"w\", **f_meta) as dest:\n",
    "        dest.write(masked_raster)"
   ]
  },
  {
   "cell_type": "code",
   "execution_count": 3,
   "metadata": {},
   "outputs": [],
   "source": [
    "#Ahora leemos los tiffs con mask y los vectorizamos\n",
    "defo_masked_files=[]\n",
    "os.chdir(pacifico_tifs)\n",
    "for i in os.listdir():\n",
    "    if '.tif' not in i:\n",
    "        continue\n",
    "    else:\n",
    "        data=rasterio.open(i, 'r')\n",
    "        defo_masked_files.append(data)"
   ]
  },
  {
   "cell_type": "code",
   "execution_count": 4,
   "metadata": {},
   "outputs": [
    {
     "name": "stdout",
     "output_type": "stream",
     "text": [
      "89522447\n",
      "Sin error\n"
     ]
    },
    {
     "ename": "",
     "evalue": "",
     "output_type": "error",
     "traceback": [
      "\u001b[1;31mCannot execute code, session has been disposed. Please try restarting the Kernel."
     ]
    },
    {
     "ename": "",
     "evalue": "",
     "output_type": "error",
     "traceback": [
      "\u001b[1;31mThe Kernel crashed while executing code in the the current cell or a previous cell. Please review the code in the cell(s) to identify a possible cause of the failure. Click <a href='https://aka.ms/vscodeJupyterKernelCrash'>here</a> for more info. View Jupyter <a href='command:jupyter.viewOutput'>log</a> for further details."
     ]
    }
   ],
   "source": [
    "start = time.time()\n",
    "\n",
    "for m in defo_masked_files:\n",
    "    project=re.search('(.*?)(?=.tif)', m.name).group(0).replace(' ', '_')\n",
    "    file_name='/Points_{}.parquet'.format(project)\n",
    "\n",
    "    raster_pacifico=m.read(1)\n",
    "\n",
    "    # Obtener las coordenadas de los puntos con valor mayor a cero\n",
    "    points = np.argwhere((raster_pacifico==2))\n",
    "    \n",
    "    # Dejar la columna de dato\n",
    "    values = raster_pacifico[points[:, 0], points[:, 1]]\n",
    "    \n",
    "\n",
    "    # Convertir las coordenadas de píxeles a coordenadas espaciales\n",
    "    raster_transform=m.transform\n",
    "    \n",
    "    lon, lat = rasterio.transform.xy(transform=raster_transform, rows=points[:, 0], cols=points[:, 1])\n",
    "    print(len(values))\n",
    "\n",
    "    # Crear un GeoDataFrame de los puntos\n",
    "    gdf = gpd.GeoDataFrame({\"geometry\":gpd.points_from_xy(lon, lat), \"pixel_type\":values})\n",
    "    print(\"Sin error\")\n",
    "    gdf.crs = m.crs\n",
    "    gdf=gdf.to_crs(epsg=3116)\n",
    "\n",
    "    #Definir columna de año\n",
    "    pattern = r'(\\d{4})[_-](\\d{4})' \n",
    "    matches = re.findall(pattern, m.name)\n",
    "    if len(matches) >= 1:\n",
    "        año = matches[0][1]\n",
    "\n",
    "    gdf[\"año\"]=año\n",
    "\n",
    "    gdf.to_parquet(vector_dir+file_name)\n",
    "\n",
    "    print(\"Listo \"+str(año)+\": \"+str(len(gdf))+\"obs\")\n",
    "\n",
    "end = time.time()\n",
    "\n",
    "print(end-start)"
   ]
  },
  {
   "cell_type": "markdown",
   "metadata": {},
   "source": [
    "os.chdir(vector_dir)\n",
    "points_2005=gpd.read_parquet('Points_cambio_2000_2005_v5_140319.parquet')\n",
    "points_2019=gpd.read_parquet('Points_cambio_2018_2019_v8_200707.parquet')\n",
    "points_2014=gpd.read_parquet('Points_cambio_2013_2014_V6_151015.parquet')"
   ]
  },
  {
   "cell_type": "markdown",
   "metadata": {},
   "source": [
    "points_2005.to_file('/Users/santiagoherreragarcia/Desktop/points2005.gpkg')\n",
    "points_2019.to_file('/Users/santiagoherreragarcia/Desktop/points2019.gpkg')\n",
    "points_2014.to_file('/Users/santiagoherreragarcia/Desktop/points2014.gpkg')"
   ]
  },
  {
   "cell_type": "markdown",
   "metadata": {},
   "source": []
  }
 ],
 "metadata": {
  "kernelspec": {
   "display_name": "Python 3 (ipykernel)",
   "language": "python",
   "name": "python3"
  },
  "language_info": {
   "codemirror_mode": {
    "name": "ipython",
    "version": 3
   },
   "file_extension": ".py",
   "mimetype": "text/x-python",
   "name": "python",
   "nbconvert_exporter": "python",
   "pygments_lexer": "ipython3",
   "version": "3.10.10"
  }
 },
 "nbformat": 4,
 "nbformat_minor": 4
}
